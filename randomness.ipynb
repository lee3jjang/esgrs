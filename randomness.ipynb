{
 "cells": [
  {
   "cell_type": "code",
   "execution_count": 85,
   "metadata": {},
   "outputs": [],
   "source": [
    "import numpy as np\n",
    "from typing import Tuple\n",
    "from scipy.stats import norm\n",
    "from scipy.stats import skew, kurtosis, chi2"
   ]
  },
  {
   "cell_type": "code",
   "execution_count": 90,
   "metadata": {},
   "outputs": [],
   "source": [
    "np.random.seed(20220315)\n",
    "sample = np.random.standard_normal(size=(1000, 1200))"
   ]
  },
  {
   "cell_type": "code",
   "execution_count": 69,
   "metadata": {},
   "outputs": [
    {
     "data": {
      "text/plain": [
       "array([[5.96000000e+02, 8.05182950e-01],\n",
       "       [5.76000000e+02, 1.64299347e-01],\n",
       "       [5.84000000e+02, 3.35265528e-01],\n",
       "       ...,\n",
       "       [6.09000000e+02, 6.44029010e-01],\n",
       "       [5.81000000e+02, 2.51847121e-01],\n",
       "       [5.56000000e+02, 1.05880914e-02]])"
      ]
     },
     "execution_count": 69,
     "metadata": {},
     "output_type": "execute_result"
    }
   ],
   "source": [
    "def runs_test(s: np.ndarray) -> Tuple[float, float]:\n",
    "    \"\"\"Runs Test\"\"\"\n",
    "\n",
    "    n_plus = 0\n",
    "    n_minus = 0\n",
    "    n = s.shape[0]\n",
    "    num_runs = 1\n",
    "    n_plus = sum(s >= 0)\n",
    "    n_minus = sum(s < 0)\n",
    "    sign = 2*(s>=0)-1\n",
    "    for i in range(1, n):\n",
    "        if sign[i-1] != sign[i]:\n",
    "            num_runs += 1\n",
    "    mu = 2*n_plus*n_minus/n + 1\n",
    "    sigma = np.sqrt((mu-1)*(mu-2)/(n-1))\n",
    "    cdf = norm.cdf(x=num_runs, loc=mu, scale=sigma)\n",
    "    p_value = 2*(1-cdf) if num_runs >= mu else 2*cdf\n",
    "    return (num_runs, p_value)\n",
    "\n",
    "runs_test_all = np.apply_along_axis(func1d=runs_test, axis=1, arr=sample)\n",
    "runs_test_all"
   ]
  },
  {
   "cell_type": "code",
   "execution_count": 92,
   "metadata": {},
   "outputs": [
    {
     "data": {
      "text/plain": [
       "array([[1.95046786, 2.41444101, 3.33163731, ..., 1.55120965, 2.80340443,\n",
       "        2.70583034],\n",
       "       [0.37710413, 0.29902727, 0.18903584, ..., 0.46042522, 0.24617756,\n",
       "        0.25848563]])"
      ]
     },
     "execution_count": 92,
     "metadata": {},
     "output_type": "execute_result"
    }
   ],
   "source": [
    "def jb_test(s: np.ndarray) -> Tuple[float, float]:\n",
    "    \"\"\"J-B Test\"\"\"\n",
    "\n",
    "    n = s.shape[0]\n",
    "    jb = (n/6)*(skew(s)**2 + kurtosis(s)**2/4)\n",
    "    p_value = 1-chi2(df=2).cdf(jb)\n",
    "    return (jb, p_value)\n",
    "\n",
    "jb_test_all = np.apply_along_axis(func1d=jb_test, axis=0, arr=sample)\n",
    "jb_test_all"
   ]
  }
 ],
 "metadata": {
  "interpreter": {
   "hash": "e362704a1ea90799be74b25044e4ca0509990194a83dd3e947f32174e5f9beb7"
  },
  "kernelspec": {
   "display_name": "Python 3.9.10 64-bit",
   "language": "python",
   "name": "python3"
  },
  "language_info": {
   "codemirror_mode": {
    "name": "ipython",
    "version": 3
   },
   "file_extension": ".py",
   "mimetype": "text/x-python",
   "name": "python",
   "nbconvert_exporter": "python",
   "pygments_lexer": "ipython3",
   "version": "3.9.10"
  },
  "orig_nbformat": 4
 },
 "nbformat": 4,
 "nbformat_minor": 2
}
